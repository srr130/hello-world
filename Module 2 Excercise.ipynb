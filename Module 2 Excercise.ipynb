{
 "cells": [
  {
   "cell_type": "code",
   "execution_count": 1,
   "id": "950b800e-2b02-484d-86cc-8ee0b5182e00",
   "metadata": {},
   "outputs": [
    {
     "ename": "SyntaxError",
     "evalue": "invalid syntax (2053852917.py, line 2)",
     "output_type": "error",
     "traceback": [
      "\u001b[0;36m  File \u001b[0;32m\"/var/folders/j1/2ddnx_293097gnr68vw8_rz40000gn/T/ipykernel_68606/2053852917.py\"\u001b[0;36m, line \u001b[0;32m2\u001b[0m\n\u001b[0;31m    Convert a list of multiple integers into a single integer:\u001b[0m\n\u001b[0m            ^\u001b[0m\n\u001b[0;31mSyntaxError\u001b[0m\u001b[0;31m:\u001b[0m invalid syntax\n"
     ]
    }
   ],
   "source": [
    "## Q1 (2 points)\n",
    "# Convert a list of multiple integers into a single integer:\n",
    "\n",
    "# Sample list: [11, 33, 50]\n",
    "\n",
    "# Expected Output: 113350\n"
   ]
  },
  {
   "cell_type": "code",
   "execution_count": 4,
   "id": "df147286-bcb7-485b-b257-f7f6032ab63e",
   "metadata": {},
   "outputs": [
    {
     "name": "stdout",
     "output_type": "stream",
     "text": [
      "625511"
     ]
    }
   ],
   "source": [
    "\n",
    "numbers = [62, 55, 11]\n",
    "  \n",
    "for i in numbers:\n",
    "    print(i, end=\"\")"
   ]
  },
  {
   "cell_type": "code",
   "execution_count": null,
   "id": "974c7103-010b-4fa5-9817-b394f339d62e",
   "metadata": {},
   "outputs": [],
   "source": [
    "## Q2 (3 points)\n",
    "# Flatten a given nested list structure. \n",
    "\n",
    "# Original list: [0, 10, [20, 30], 40, 50, [60, 70, 80], [90, 100, 110, 120]]\n",
    "\n",
    "# Flatten list:\n",
    "# [0, 10, 20, 30, 40, 50, 60, 70, 80, 90, 100, 110, 120] "
   ]
  },
  {
   "cell_type": "code",
   "execution_count": 5,
   "id": "d1301dc0-c5f2-4d09-83bf-ed6e3ff1c0f8",
   "metadata": {},
   "outputs": [
    {
     "name": "stdout",
     "output_type": "stream",
     "text": [
      "Original List [0, 10, [20, 30], 40, 50, [60, 70, 80], [90, 100, 110, 120]]\n",
      "Transformed Flat List [0, 10, 20, 30, 40, 50, 60, 70, 80, 90, 100, 110, 120]\n"
     ]
    }
   ],
   "source": [
    "def flatten_list(_2d_list):\n",
    "    flat_list = []\n",
    "    # Iterate through the outer list\n",
    "    for element in _2d_list:\n",
    "        if type(element) is list:\n",
    "            # If the element is of type list, iterate through the sublist\n",
    "            for item in element:\n",
    "                flat_list.append(item)\n",
    "        else:\n",
    "            flat_list.append(element)\n",
    "    return flat_list\n",
    "\n",
    "nested_list = [0, 10, [20, 30], 40, 50, [60, 70, 80], [90, 100, 110, 120]]\n",
    "print('Original List', nested_list)\n",
    "print('Transformed Flat List', flatten_list(nested_list))"
   ]
  },
  {
   "cell_type": "code",
   "execution_count": null,
   "id": "68941662-d7ae-41af-b1cf-09f8c5c3793a",
   "metadata": {},
   "outputs": [],
   "source": [
    "## Q3 (2 points)\n",
    "# Convert a given dictionary into a list of lists.\n",
    "\n",
    "# Original Dictionary:\n",
    "# {1: 'red', 2: 'green', 3: 'black', 4: 'white', 5: 'black'}\n",
    "\n",
    "# Convert the said dictionary into a list of lists:\n",
    "# [[1, 'red'], [2, 'green'], [3, 'black'], [4, 'white'], [5, 'black']] "
   ]
  },
  {
   "cell_type": "code",
   "execution_count": 7,
   "id": "4e7dd99a-2dbe-495c-aff2-43eb41f20b4b",
   "metadata": {},
   "outputs": [
    {
     "name": "stdout",
     "output_type": "stream",
     "text": [
      "[(1, 'red'), (2, 'green'), (3, 'black'), (4, 'white'), (5, 'black')]\n"
     ]
    }
   ],
   "source": [
    "d = {\n",
    "    1: 'red',\n",
    "    2: 'green',\n",
    "    3: 'black',\n",
    "    4: 'white',\n",
    "    5: 'black'\n",
    "}\n",
    "t = list(d.items())\n",
    "print(t)"
   ]
  },
  {
   "cell_type": "code",
   "execution_count": 6,
   "id": "b9874f31-9bb9-43f5-b894-67b04454441a",
   "metadata": {},
   "outputs": [
    {
     "ename": "NameError",
     "evalue": "name 'myDict' is not defined",
     "output_type": "error",
     "traceback": [
      "\u001b[0;31m---------------------------------------------------------------------------\u001b[0m",
      "\u001b[0;31mNameError\u001b[0m                                 Traceback (most recent call last)",
      "\u001b[0;32m/var/folders/j1/2ddnx_293097gnr68vw8_rz40000gn/T/ipykernel_68606/2489864641.py\u001b[0m in \u001b[0;36m<module>\u001b[0;34m\u001b[0m\n\u001b[0;32m----> 1\u001b[0;31m \u001b[0mt\u001b[0m \u001b[0;34m=\u001b[0m \u001b[0mlist\u001b[0m\u001b[0;34m(\u001b[0m\u001b[0mmyDict\u001b[0m\u001b[0;34m.\u001b[0m\u001b[0mitems\u001b[0m\u001b[0;34m(\u001b[0m\u001b[0;34m)\u001b[0m\u001b[0;34m)\u001b[0m\u001b[0;34m\u001b[0m\u001b[0;34m\u001b[0m\u001b[0m\n\u001b[0m\u001b[1;32m      2\u001b[0m \u001b[0mprint\u001b[0m\u001b[0;34m(\u001b[0m\u001b[0mt\u001b[0m\u001b[0;34m)\u001b[0m\u001b[0;34m\u001b[0m\u001b[0;34m\u001b[0m\u001b[0m\n",
      "\u001b[0;31mNameError\u001b[0m: name 'myDict' is not defined"
     ]
    }
   ],
   "source": [
    "\n"
   ]
  },
  {
   "cell_type": "code",
   "execution_count": null,
   "id": "8a8a4ffb-3c44-47eb-a8e4-b36d03357ae3",
   "metadata": {},
   "outputs": [],
   "source": []
  }
 ],
 "metadata": {
  "kernelspec": {
   "display_name": "Python 3 (ipykernel)",
   "language": "python",
   "name": "python3"
  },
  "language_info": {
   "codemirror_mode": {
    "name": "ipython",
    "version": 3
   },
   "file_extension": ".py",
   "mimetype": "text/x-python",
   "name": "python",
   "nbconvert_exporter": "python",
   "pygments_lexer": "ipython3",
   "version": "3.9.7"
  }
 },
 "nbformat": 4,
 "nbformat_minor": 5
}
