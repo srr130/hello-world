{
 "cells": [
  {
   "cell_type": "code",
   "execution_count": null,
   "id": "22cfbafc-a08f-4ba8-81cf-882379030d28",
   "metadata": {},
   "outputs": [],
   "source": [
    "## Q1 (2 points)\n",
    "# Convert a list of multiple integers into a single integer:"
   ]
  },
  {
   "cell_type": "code",
   "execution_count": 8,
   "id": "83137e81-ff87-4307-b4bd-bc7ea49cd968",
   "metadata": {},
   "outputs": [
    {
     "name": "stdout",
     "output_type": "stream",
     "text": [
      "625511"
     ]
    }
   ],
   "source": [
    "numbers = [62, 55, 11]\n",
    "  \n",
    "for i in numbers:\n",
    "    print(i, end=\"\")"
   ]
  },
  {
   "cell_type": "code",
   "execution_count": null,
   "id": "974c7103-010b-4fa5-9817-b394f339d62e",
   "metadata": {},
   "outputs": [],
   "source": [
    "## Q2 (3 points)\n",
    "# Flatten a given nested list structure. "
   ]
  },
  {
   "cell_type": "code",
   "execution_count": 5,
   "id": "d1301dc0-c5f2-4d09-83bf-ed6e3ff1c0f8",
   "metadata": {},
   "outputs": [
    {
     "name": "stdout",
     "output_type": "stream",
     "text": [
      "Original List [0, 10, [20, 30], 40, 50, [60, 70, 80], [90, 100, 110, 120]]\n",
      "Transformed Flat List [0, 10, 20, 30, 40, 50, 60, 70, 80, 90, 100, 110, 120]\n"
     ]
    }
   ],
   "source": [
    "def flatten_list(_2d_list):\n",
    "    flat_list = []\n",
    "    # Iterate through the outer list\n",
    "    for element in _2d_list:\n",
    "        if type(element) is list:\n",
    "            # If the element is of type list, iterate through the sublist\n",
    "            for item in element:\n",
    "                flat_list.append(item)\n",
    "        else:\n",
    "            flat_list.append(element)\n",
    "    return flat_list\n",
    "\n",
    "nested_list = [0, 10, [20, 30], 40, 50, [60, 70, 80], [90, 100, 110, 120]]\n",
    "print('Original List', nested_list)\n",
    "print('Transformed Flat List', flatten_list(nested_list))"
   ]
  },
  {
   "cell_type": "code",
   "execution_count": null,
   "id": "68941662-d7ae-41af-b1cf-09f8c5c3793a",
   "metadata": {},
   "outputs": [],
   "source": [
    "## Q3 (2 points)\n",
    "# Convert a given dictionary into a list of lists.\n",
    "\n",
    "# Original Dictionary:\n",
    "# {1: 'red', 2: 'green', 3: 'black', 4: 'white', 5: 'black'}\n",
    "\n",
    "# Convert the said dictionary into a list of lists:\n",
    "# [[1, 'red'], [2, 'green'], [3, 'black'], [4, 'white'], [5, 'black']] "
   ]
  },
  {
   "cell_type": "code",
   "execution_count": 7,
   "id": "4e7dd99a-2dbe-495c-aff2-43eb41f20b4b",
   "metadata": {},
   "outputs": [
    {
     "name": "stdout",
     "output_type": "stream",
     "text": [
      "[(1, 'red'), (2, 'green'), (3, 'black'), (4, 'white'), (5, 'black')]\n"
     ]
    }
   ],
   "source": [
    "d = {\n",
    "    1: 'red',\n",
    "    2: 'green',\n",
    "    3: 'black',\n",
    "    4: 'white',\n",
    "    5: 'black'\n",
    "}\n",
    "t = list(d.items())\n",
    "print(t)"
   ]
  }
 ],
 "metadata": {
  "kernelspec": {
   "display_name": "Python 3 (ipykernel)",
   "language": "python",
   "name": "python3"
  },
  "language_info": {
   "codemirror_mode": {
    "name": "ipython",
    "version": 3
   },
   "file_extension": ".py",
   "mimetype": "text/x-python",
   "name": "python",
   "nbconvert_exporter": "python",
   "pygments_lexer": "ipython3",
   "version": "3.9.7"
  }
 },
 "nbformat": 4,
 "nbformat_minor": 5
}
